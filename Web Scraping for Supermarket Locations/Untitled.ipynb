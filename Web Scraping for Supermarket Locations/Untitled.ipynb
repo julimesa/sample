{
 "cells": [
  {
   "cell_type": "code",
   "execution_count": 2,
   "metadata": {},
   "outputs": [
    {
     "name": "stderr",
     "output_type": "stream",
     "text": [
      "/Users/tanmay/anaconda3/lib/python3.6/site-packages/fuzzywuzzy/fuzz.py:11: UserWarning: Using slow pure-python SequenceMatcher. Install python-Levenshtein to remove this warning\n",
      "  warnings.warn('Using slow pure-python SequenceMatcher. Install python-Levenshtein to remove this warning')\n"
     ]
    },
    {
     "name": "stdout",
     "output_type": "stream",
     "text": [
      "https://locations.traderjoes.com/al\n",
      "https://locations.traderjoes.com/ak\n",
      "https://locations.traderjoes.com/az\n",
      "https://locations.traderjoes.com/ar\n",
      "https://locations.traderjoes.com/ca\n",
      "https://locations.traderjoes.com/co\n",
      "https://locations.traderjoes.com/ct\n",
      "https://locations.traderjoes.com/de\n",
      "https://locations.traderjoes.com/fl\n",
      "https://locations.traderjoes.com/ga\n",
      "https://locations.traderjoes.com/hi\n",
      "https://locations.traderjoes.com/id\n",
      "https://locations.traderjoes.com/il\n",
      "https://locations.traderjoes.com/in\n",
      "https://locations.traderjoes.com/ia\n",
      "https://locations.traderjoes.com/ks\n",
      "https://locations.traderjoes.com/ky\n",
      "https://locations.traderjoes.com/la\n",
      "https://locations.traderjoes.com/me\n",
      "https://locations.traderjoes.com/md\n",
      "https://locations.traderjoes.com/ma\n",
      "https://locations.traderjoes.com/mi\n",
      "https://locations.traderjoes.com/mn\n",
      "https://locations.traderjoes.com/ms\n",
      "https://locations.traderjoes.com/mo\n",
      "https://locations.traderjoes.com/mt\n",
      "https://locations.traderjoes.com/ne\n",
      "https://locations.traderjoes.com/nv\n",
      "https://locations.traderjoes.com/nh\n",
      "https://locations.traderjoes.com/nj\n",
      "https://locations.traderjoes.com/nm\n",
      "https://locations.traderjoes.com/ny\n",
      "https://locations.traderjoes.com/nc\n",
      "https://locations.traderjoes.com/nd\n",
      "https://locations.traderjoes.com/oh\n",
      "https://locations.traderjoes.com/ok\n",
      "https://locations.traderjoes.com/or\n",
      "https://locations.traderjoes.com/pa\n",
      "https://locations.traderjoes.com/ri\n",
      "https://locations.traderjoes.com/sc\n",
      "https://locations.traderjoes.com/sd\n",
      "https://locations.traderjoes.com/tn\n",
      "https://locations.traderjoes.com/tx\n",
      "https://locations.traderjoes.com/ut\n",
      "https://locations.traderjoes.com/vt\n",
      "https://locations.traderjoes.com/va\n",
      "https://locations.traderjoes.com/wa\n",
      "https://locations.traderjoes.com/wv\n",
      "https://locations.traderjoes.com/wi\n",
      "https://locations.traderjoes.com/wy\n"
     ]
    }
   ],
   "source": [
    "'''\n",
    "WEB SCRAPING USING BEAUTIFULSOUP\n",
    "\n",
    "This code returns an Excel file with all Trader Joe's stores in the United States.\n",
    "A csv file with cities in which there was an error returning the stores is also returned for debugging purposes.\n",
    "'''\n",
    "from auxiliary import *\n",
    "wait_time = 3\n",
    "grocery_chain = 'Trader Joes'\n",
    "\n",
    "#Returning state abbreviations\n",
    "store_states = [i.lower() for i in list(states_data().values())]\n",
    "\n",
    "tj_cities = list()\n",
    "\n",
    "for each_state in store_states:\n",
    "    try:\n",
    "        url = 'https://locations.traderjoes.com/' + each_state\n",
    "        print(url)\n",
    "        #Creating a beautifulsoup object\n",
    "        page_soup = bs4_page(url)\n",
    "        \n",
    "        for element in page_soup.find_all(\"div\", {\"class\": \"itemlist\"}):\n",
    "            #Getting all states in which there is at least one trader joe's\n",
    "            string = element.text\n",
    "            string = string.lower().replace(\" \",\"-\")\n",
    "            tj_cities.append(each_state + '/' + string)\n",
    "    except:\n",
    "        a = 1\n",
    "\n",
    "#Creating empty lists\n",
    "df = pd.DataFrame()\n",
    "not_found = list()\n",
    "STORE_NAME = list()\n",
    "ADDRESS = list()\n",
    "CITY = list()\n",
    "STATE = list()\n",
    "store_zip = list()\n",
    "ZIP_CODE = list()"
   ]
  },
  {
   "cell_type": "code",
   "execution_count": 10,
   "metadata": {},
   "outputs": [],
   "source": [
    "for each_city in tj_cities[0:10]:\n",
    "    try:\n",
    "        url = 'https://locations.traderjoes.com/' + each_city\n",
    "        page_soup = bs4_page(url)\n",
    "\n",
    "        for element in page_soup.find_all(\"div\", {\"class\": \"address-left\"}):\n",
    "            a = element.text.split('\\n')\n",
    "            STORE_NAME.append(element.text.split('\\n')[5].split('= ')[1].rsplit('\"',1)[0].split('\"')[1].replace('\\n',' ').strip())\n",
    "            ADDRESS.append(element.text.split('\\n')[12].replace('\\n',' ').strip())\n",
    "            CITY.append(element.text.split('\\n')[14].rsplit(',',1)[0].replace('\\n',' ').strip())\n",
    "            STATE.append(element.text.split('\\n')[15].strip().replace('\\n',' ').strip())\n",
    "            ZIP_CODE.append(element.text.split('\\n')[16].replace('\\n',' ').strip())\n",
    "            print(element.text.split('\\n')[16].replace('\\n',' ').strip())\n",
    "    except:\n",
    "        not_found.append(url)"
   ]
  },
  {
   "cell_type": "code",
   "execution_count": 9,
   "metadata": {},
   "outputs": [
    {
     "data": {
      "text/plain": [
       "'Tempe,'"
      ]
     },
     "execution_count": 9,
     "metadata": {},
     "output_type": "execute_result"
    }
   ],
   "source": [
    "a[14].replace('\\n',' ').strip()"
   ]
  },
  {
   "cell_type": "code",
   "execution_count": null,
   "metadata": {
    "collapsed": true
   },
   "outputs": [],
   "source": []
  }
 ],
 "metadata": {
  "kernelspec": {
   "display_name": "Python 3",
   "language": "python",
   "name": "python3"
  },
  "language_info": {
   "codemirror_mode": {
    "name": "ipython",
    "version": 3
   },
   "file_extension": ".py",
   "mimetype": "text/x-python",
   "name": "python",
   "nbconvert_exporter": "python",
   "pygments_lexer": "ipython3",
   "version": "3.6.3"
  }
 },
 "nbformat": 4,
 "nbformat_minor": 2
}
